{
  "nbformat": 4,
  "nbformat_minor": 0,
  "metadata": {
    "colab": {
      "provenance": [],
      "machine_shape": "hm",
      "gpuType": "A100"
    },
    "kernelspec": {
      "name": "python3",
      "display_name": "Python 3"
    },
    "language_info": {
      "name": "python"
    },
    "accelerator": "GPU"
  },
  "cells": [
    {
      "cell_type": "code",
      "execution_count": null,
      "metadata": {
        "id": "yBo9dH6D-8fL"
      },
      "outputs": [],
      "source": [
        "!pip install openai-whisper==20231117\n",
        "!pip install openai==1.31.0\n",
        "!pip install gradio==3.40.0\n",
        "!pip install pytubefix==7.1.3"
      ]
    },
    {
      "cell_type": "markdown",
      "source": [
        "# SRT 자막 파일 만들기 - whisper 라이브러리 활용"
      ],
      "metadata": {
        "id": "mvEnjgUPd7hO"
      }
    },
    {
      "cell_type": "markdown",
      "source": [
        "STT(Speech-To-Text)"
      ],
      "metadata": {
        "id": "c9WK1oExgRzp"
      }
    },
    {
      "cell_type": "code",
      "source": [
        "import whisper\n",
        "\n",
        "model = whisper.load_model(\"large\")\n",
        "\n",
        "audio_file_name = \"audio_from_youtube.webm\"\n",
        "\n",
        "transcript = model.transcribe(audio_file_name)\n",
        "\n",
        "transcript"
      ],
      "metadata": {
        "id": "x98HwXnghIdp"
      },
      "execution_count": null,
      "outputs": []
    },
    {
      "cell_type": "markdown",
      "source": [
        "변환된 Text 저장"
      ],
      "metadata": {
        "id": "r2pULUtKgVhm"
      }
    },
    {
      "cell_type": "code",
      "source": [
        "srt_writer = get_writer(output_format=\"srt\", output_dir=\".\")\n",
        "srt_writer(transcript, audio_file_name)"
      ],
      "metadata": {
        "id": "czykhGSOemL7"
      },
      "execution_count": null,
      "outputs": []
    },
    {
      "cell_type": "markdown",
      "source": [
        "Gradio 연결"
      ],
      "metadata": {
        "id": "5I-UnUxEgP0X"
      }
    },
    {
      "cell_type": "code",
      "source": [
        "import os\n",
        "\n",
        "import gradio as gr\n",
        "import whisper\n",
        "from pytubefix import YouTube\n",
        "from whisper.utils import get_writer\n",
        "\n",
        "class WhisperInferencer:\n",
        "    def __init__(self):\n",
        "        self.model = whisper.load_model(\"large\")\n",
        "        self.srt_writer = get_writer(output_format=\"srt\", output_dir=\".\")\n",
        "\n",
        "    def inference(self, audio_file_path: str) -> str:\n",
        "        transcript = self.model.transcribe(audio_file_path)\n",
        "        self.srt_writer(transcript, audio_file_path)\n",
        "\n",
        "        filename = os.path.basename(audio_file_path)\n",
        "        filename = filename.split(\".\")[0]\n",
        "\n",
        "        return f\"{filename}.srt\"\n",
        "\n",
        "whipser_inferencer = WhisperInferencer()\n",
        "\n",
        "def transcribe(link: str):\n",
        "    video_file_name = \"video_from_youtube.mp4\"\n",
        "    audio_file_name = \"audio_from_youtube.webm\"\n",
        "    yt = YouTube(link)\n",
        "\n",
        "    # Extract video\n",
        "    streams = yt.streams.filter(progressive=True, file_extension=\"mp4\", type=\"video\").order_by(\"resolution\").desc()\n",
        "    streams[0].download(filename=video_file_name)\n",
        "\n",
        "    # Extract audio\n",
        "    audio_streams = yt.streams.filter(type=\"audio\").order_by(\"abr\").desc()\n",
        "    audio_streams[0].download(filename=audio_file_name)\n",
        "\n",
        "    transcript_file = whipser_inferencer.inference(audio_file_name)\n",
        "    return transcript_file, [video_file_name, transcript_file]\n",
        "\n",
        "# Set gradio app\n",
        "with gr.Blocks() as app:\n",
        "    gr.Markdown(\"# Youtube 자막 생성기\")\n",
        "\n",
        "    with gr.Row():\n",
        "        with gr.Column(scale=1):\n",
        "            link = gr.Textbox(label=\"Youtube Link\")\n",
        "            subtitle = gr.File(label=\"Subtitle\", file_types=[\".srt\"])\n",
        "            transcribe_btn = gr.Button(value=\"자막 생성!\")\n",
        "\n",
        "        with gr.Column(scale=4):\n",
        "            output_video = gr.Video(label=\"Output\", height=500)\n",
        "\n",
        "    transcribe_btn.click(transcribe, [link], [subtitle, output_video])\n",
        "\n",
        "app.launch(inline=False, share=True)"
      ],
      "metadata": {
        "colab": {
          "base_uri": "https://localhost:8080/"
        },
        "id": "438YLLmtAgi0",
        "outputId": "606d40bb-eb94-4e82-d44e-ebf8cbfc893e"
      },
      "execution_count": null,
      "outputs": [
        {
          "output_type": "stream",
          "name": "stderr",
          "text": [
            "/usr/local/lib/python3.10/dist-packages/whisper/__init__.py:146: FutureWarning: You are using `torch.load` with `weights_only=False` (the current default value), which uses the default pickle module implicitly. It is possible to construct malicious pickle data which will execute arbitrary code during unpickling (See https://github.com/pytorch/pytorch/blob/main/SECURITY.md#untrusted-models for more details). In a future release, the default value for `weights_only` will be flipped to `True`. This limits the functions that could be executed during unpickling. Arbitrary objects will no longer be allowed to be loaded via this mode unless they are explicitly allowlisted by the user via `torch.serialization.add_safe_globals`. We recommend you start setting `weights_only=True` for any use case where you don't have full control of the loaded file. Please open an issue on GitHub for any issues related to this experimental feature.\n",
            "  checkpoint = torch.load(fp, map_location=device)\n"
          ]
        },
        {
          "output_type": "stream",
          "name": "stdout",
          "text": [
            "Colab notebook detected. To show errors in colab notebook, set debug=True in launch()\n",
            "IMPORTANT: You are using gradio version 3.40.0, however version 5.0.1 is available, please upgrade.\n",
            "--------\n",
            "Running on public URL: https://7cfc032775c5a128f7.gradio.live\n",
            "\n",
            "This share link expires in 72 hours. For free permanent hosting and GPU upgrades, run `gradio deploy` from Terminal to deploy to Spaces (https://huggingface.co/spaces)\n"
          ]
        },
        {
          "output_type": "execute_result",
          "data": {
            "text/plain": []
          },
          "metadata": {},
          "execution_count": 7
        }
      ]
    },
    {
      "cell_type": "code",
      "source": [
        "app.close()"
      ],
      "metadata": {
        "colab": {
          "base_uri": "https://localhost:8080/"
        },
        "id": "lONqm62ScHHE",
        "outputId": "a62ab13a-e23f-47e5-beb2-53bdc4e37afb"
      },
      "execution_count": null,
      "outputs": [
        {
          "output_type": "stream",
          "name": "stdout",
          "text": [
            "Closing server running on port: 7860\n"
          ]
        }
      ]
    }
  ]
}